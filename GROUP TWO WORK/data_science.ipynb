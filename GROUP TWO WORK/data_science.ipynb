{
 "cells": [
  {
   "cell_type": "code",
   "execution_count": 4,
   "metadata": {},
   "outputs": [],
   "source": [
    "import numpy as np\n",
    "import seaborn as sns\n",
    "import pandas as pd\n",
    "import matplotlib.pyplot as plt\n"
   ]
  },
  {
   "cell_type": "code",
   "execution_count": 5,
   "metadata": {},
   "outputs": [
    {
     "name": "stdout",
     "output_type": "stream",
     "text": [
      "Name: scikit-learn\n",
      "Version: 1.5.0\n",
      "Summary: A set of python modules for machine learning and data mining\n",
      "Home-page: https://scikit-learn.org\n",
      "Author: \n",
      "Author-email: \n",
      "License: new BSD\n",
      "Location: c:\\Users\\Administrator\\AppData\\Local\\Programs\\Python\\Python312\\Lib\\site-packages\n",
      "Requires: joblib, numpy, scipy, threadpoolctl\n",
      "Required-by: \n",
      "Note: you may need to restart the kernel to use updated packages.\n"
     ]
    }
   ],
   "source": [
    "pip show scikit-learn"
   ]
  },
  {
   "cell_type": "code",
   "execution_count": 7,
   "metadata": {},
   "outputs": [],
   "source": [
    "filepath = \"C:/Users/Administrator/Desktop/GROUP TWO WORK/Data set 1 Cleaning final.xlsx\""
   ]
  },
  {
   "cell_type": "code",
   "execution_count": 8,
   "metadata": {},
   "outputs": [
    {
     "data": {
      "text/html": [
       "<div>\n",
       "<style scoped>\n",
       "    .dataframe tbody tr th:only-of-type {\n",
       "        vertical-align: middle;\n",
       "    }\n",
       "\n",
       "    .dataframe tbody tr th {\n",
       "        vertical-align: top;\n",
       "    }\n",
       "\n",
       "    .dataframe thead th {\n",
       "        text-align: right;\n",
       "    }\n",
       "</style>\n",
       "<table border=\"1\" class=\"dataframe\">\n",
       "  <thead>\n",
       "    <tr style=\"text-align: right;\">\n",
       "      <th></th>\n",
       "      <th>Column1</th>\n",
       "      <th>Order ID</th>\n",
       "      <th>Date</th>\n",
       "      <th>First</th>\n",
       "      <th>Last</th>\n",
       "      <th>Gender</th>\n",
       "      <th>Age</th>\n",
       "      <th>Country</th>\n",
       "      <th>Price</th>\n",
       "      <th>Units</th>\n",
       "      <th>Revenue</th>\n",
       "      <th>Payment \\nMethod</th>\n",
       "      <th>Salesperson</th>\n",
       "    </tr>\n",
       "  </thead>\n",
       "  <tbody>\n",
       "    <tr>\n",
       "      <th>0</th>\n",
       "      <td>NaN</td>\n",
       "      <td>10507</td>\n",
       "      <td>45095</td>\n",
       "      <td>Janet</td>\n",
       "      <td>Murphy</td>\n",
       "      <td>Female</td>\n",
       "      <td>55</td>\n",
       "      <td>FR</td>\n",
       "      <td>400</td>\n",
       "      <td>91.0</td>\n",
       "      <td>36400.0</td>\n",
       "      <td>Credit Card</td>\n",
       "      <td>ANNa Perez</td>\n",
       "    </tr>\n",
       "    <tr>\n",
       "      <th>1</th>\n",
       "      <td>NaN</td>\n",
       "      <td>10534</td>\n",
       "      <td>45100</td>\n",
       "      <td>Janice</td>\n",
       "      <td>Clark</td>\n",
       "      <td>Female</td>\n",
       "      <td>60</td>\n",
       "      <td>IT</td>\n",
       "      <td>400</td>\n",
       "      <td>83.6</td>\n",
       "      <td>33440.0</td>\n",
       "      <td>Cash</td>\n",
       "      <td>Anna Perez</td>\n",
       "    </tr>\n",
       "    <tr>\n",
       "      <th>2</th>\n",
       "      <td>NaN</td>\n",
       "      <td>10537</td>\n",
       "      <td>45101</td>\n",
       "      <td>Charlotte</td>\n",
       "      <td>Walker</td>\n",
       "      <td>Female</td>\n",
       "      <td>58</td>\n",
       "      <td>FR</td>\n",
       "      <td>320</td>\n",
       "      <td>83.6</td>\n",
       "      <td>26752.0</td>\n",
       "      <td>Credit Card</td>\n",
       "      <td>Anna Perez</td>\n",
       "    </tr>\n",
       "    <tr>\n",
       "      <th>3</th>\n",
       "      <td>NaN</td>\n",
       "      <td>10538</td>\n",
       "      <td>45101</td>\n",
       "      <td>Natalie</td>\n",
       "      <td>Robinson</td>\n",
       "      <td>Female</td>\n",
       "      <td>49</td>\n",
       "      <td>FR</td>\n",
       "      <td>320</td>\n",
       "      <td>83.6</td>\n",
       "      <td>26752.0</td>\n",
       "      <td>Credit Card</td>\n",
       "      <td>ANNA PEREZ</td>\n",
       "    </tr>\n",
       "    <tr>\n",
       "      <th>4</th>\n",
       "      <td>NaN</td>\n",
       "      <td>10542</td>\n",
       "      <td>45102</td>\n",
       "      <td>Doris</td>\n",
       "      <td>Nguyen</td>\n",
       "      <td>Female</td>\n",
       "      <td>42</td>\n",
       "      <td>IT</td>\n",
       "      <td>400</td>\n",
       "      <td>83.6</td>\n",
       "      <td>33440.0</td>\n",
       "      <td>Credit Card</td>\n",
       "      <td>Tom Jackson</td>\n",
       "    </tr>\n",
       "  </tbody>\n",
       "</table>\n",
       "</div>"
      ],
      "text/plain": [
       "   Column1  Order ID   Date      First      Last  Gender  Age Country  Price  \\\n",
       "0      NaN     10507  45095      Janet    Murphy  Female   55      FR    400   \n",
       "1      NaN     10534  45100     Janice     Clark  Female   60      IT    400   \n",
       "2      NaN     10537  45101  Charlotte    Walker  Female   58      FR    320   \n",
       "3      NaN     10538  45101    Natalie  Robinson  Female   49      FR    320   \n",
       "4      NaN     10542  45102      Doris    Nguyen  Female   42      IT    400   \n",
       "\n",
       "   Units  Revenue Payment \\nMethod      Salesperson  \n",
       "0   91.0  36400.0      Credit Card       ANNa Perez  \n",
       "1   83.6  33440.0             Cash       Anna Perez  \n",
       "2   83.6  26752.0      Credit Card       Anna Perez  \n",
       "3   83.6  26752.0      Credit Card       ANNA PEREZ  \n",
       "4   83.6  33440.0      Credit Card      Tom Jackson  "
      ]
     },
     "execution_count": 8,
     "metadata": {},
     "output_type": "execute_result"
    }
   ],
   "source": [
    "Tendo = pd.read_excel(filepath, header=1)\n",
    "Tendo.head()"
   ]
  },
  {
   "cell_type": "code",
   "execution_count": 13,
   "metadata": {},
   "outputs": [],
   "source": [
    "from sklearn.linear_model import LinearRegression"
   ]
  },
  {
   "cell_type": "code",
   "execution_count": 14,
   "metadata": {},
   "outputs": [],
   "source": [
    "dm = LinearRegression()"
   ]
  },
  {
   "cell_type": "code",
   "execution_count": 15,
   "metadata": {},
   "outputs": [
    {
     "ename": "TypeError",
     "evalue": "'Series' object is not callable",
     "output_type": "error",
     "traceback": [
      "\u001b[1;31m---------------------------------------------------------------------------\u001b[0m",
      "\u001b[1;31mTypeError\u001b[0m                                 Traceback (most recent call last)",
      "Cell \u001b[1;32mIn[15], line 1\u001b[0m\n\u001b[1;32m----> 1\u001b[0m \u001b[43mTendo\u001b[49m\u001b[38;5;241;43m.\u001b[39;49m\u001b[43mdtypes\u001b[49m\u001b[43m(\u001b[49m\u001b[43m)\u001b[49m\n",
      "\u001b[1;31mTypeError\u001b[0m: 'Series' object is not callable"
     ]
    }
   ],
   "source": [
    "Tendo.dtypes()"
   ]
  }
 ],
 "metadata": {
  "kernelspec": {
   "display_name": "Python 3",
   "language": "python",
   "name": "python3"
  },
  "language_info": {
   "codemirror_mode": {
    "name": "ipython",
    "version": 3
   },
   "file_extension": ".py",
   "mimetype": "text/x-python",
   "name": "python",
   "nbconvert_exporter": "python",
   "pygments_lexer": "ipython3",
   "version": "3.12.0"
  }
 },
 "nbformat": 4,
 "nbformat_minor": 2
}
